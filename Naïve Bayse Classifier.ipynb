{
 "cells": [
  {
   "cell_type": "markdown",
   "metadata": {},
   "source": [
    "# <center> Computer Assignment 2 - Naïve Bayse Classifier </center>\n",
    "## In this project, we want to analyze and classify the dataset of a website that provides buying and selling second-hand stuff."
   ]
  },
  {
   "cell_type": "markdown",
   "metadata": {},
   "source": [
    "***\n",
    "## Importing the required libraries"
   ]
  },
  {
   "cell_type": "code",
   "execution_count": 1,
   "metadata": {
    "ExecuteTime": {
     "end_time": "2021-12-23T12:22:07.682161Z",
     "start_time": "2021-12-23T12:22:05.826653Z"
    }
   },
   "outputs": [],
   "source": [
    "from __future__ import unicode_literals\n",
    "from hazm import *\n",
    "import pandas as pd\n",
    "from parsivar import *\n",
    "import collections\n",
    "import numpy as np\n",
    "import matplotlib.pyplot as plt\n",
    "from bidi.algorithm import get_display\n",
    "from arabic_reshaper import reshape\n",
    "import copy\n",
    "pd.set_option('display.max_colwidth', None)"
   ]
  },
  {
   "cell_type": "markdown",
   "metadata": {},
   "source": [
    "***\n",
    "## Reading train and test datasets"
   ]
  },
  {
   "cell_type": "code",
   "execution_count": 2,
   "metadata": {
    "ExecuteTime": {
     "end_time": "2021-12-23T12:22:07.741450Z",
     "start_time": "2021-12-23T12:22:07.683948Z"
    }
   },
   "outputs": [],
   "source": [
    "train_data = pd.read_csv(\"Data/divar_train.csv\")\n",
    "test_data = pd.read_csv(\"Data/divar_test.csv\")"
   ]
  },
  {
   "cell_type": "markdown",
   "metadata": {},
   "source": [
    "### Each item in the dataset has a **description** and a **title**. In this approach, **feature** is considered to be the concatenation of **title** and **description**."
   ]
  },
  {
   "cell_type": "code",
   "execution_count": 3,
   "metadata": {
    "ExecuteTime": {
     "end_time": "2021-12-23T12:22:07.752923Z",
     "start_time": "2021-12-23T12:22:07.743114Z"
    }
   },
   "outputs": [],
   "source": [
    "train_data['title+description'] = train_data['title'] + \" \" + train_data['description']\n",
    "test_data['title+description'] = test_data['title'] + \" \" + test_data['description']"
   ]
  },
  {
   "cell_type": "markdown",
   "metadata": {},
   "source": [
    "***\n",
    "# Phase one: Preprocessing\n",
    "#### The methods which is been used in preprocessing phase are:\n",
    "- **normalizing():** normalizes the text.\n",
    "- **remove_special_characters():** removes **\\n** and **\\t**.\n",
    "- **remove_stop_words():** removes frequent words.\n",
    "- **stemming():** reduces the word(verb) to its root word."
   ]
  },
  {
   "cell_type": "code",
   "execution_count": 4,
   "metadata": {
    "ExecuteTime": {
     "end_time": "2021-12-23T12:22:07.761017Z",
     "start_time": "2021-12-23T12:22:07.755281Z"
    }
   },
   "outputs": [],
   "source": [
    "class Preprocessing:\n",
    "    def __init__(self, data):\n",
    "        self.data = data\n",
    "        \n",
    "    def normalizing(self):\n",
    "        my_normalizer = Normalizer(date_normalizing_needed=True)\n",
    "        for i in range(len(self.data)):\n",
    "            self.data[i] = my_normalizer.normalize(self.data[i])\n",
    "        \n",
    "    def remove_special_characters(self):\n",
    "        special_chars = ['\\n', '\\t', '\\.']\n",
    "        self.data = self.data.replace(special_chars, ' ', regex=True)\n",
    "        \n",
    "    def remove_stop_words(self, stopwords):\n",
    "        for stopword in stopwords:\n",
    "            self.data = self.data.str.replace(' ' + stopword.strip() + ' ', ' ', regex=False)\n",
    "                \n",
    "    def stemming(self):\n",
    "        my_stemmer = FindStems()\n",
    "        for i in range(len(self.data)):\n",
    "            words = word_tokenize(self.data[i])\n",
    "            for j in range(len(words)):\n",
    "                words[j] = my_stemmer.convert_to_stem(words[j])\n",
    "            self.data[i] = ' '.join(words)"
   ]
  },
  {
   "cell_type": "code",
   "execution_count": 5,
   "metadata": {
    "ExecuteTime": {
     "end_time": "2021-12-23T12:22:20.542699Z",
     "start_time": "2021-12-23T12:22:07.764595Z"
    }
   },
   "outputs": [],
   "source": [
    "train_preprocessing = Preprocessing(train_data['title+description'])\n",
    "test_preprocessing = Preprocessing(test_data['title+description'])\n",
    "\n",
    "train_preprocessing.normalizing()\n",
    "test_preprocessing.normalizing()\n",
    "\n",
    "train_preprocessing.remove_special_characters()\n",
    "test_preprocessing.remove_special_characters()\n",
    "\n",
    "train_preprocessing.stemming()\n",
    "test_preprocessing.stemming()\n",
    "\n",
    "stopwords = stopwords_list()\n",
    "stopwords.extend(['ها', 'نو', 'نوی', '.', '،', 'قیمت', 'تخفیف', 'سالم', '2', '1', '$'])\n",
    "train_preprocessing.remove_stop_words(stopwords)\n",
    "test_preprocessing.remove_stop_words(stopwords)\n",
    "\n",
    "train_data['title+description'] = train_preprocessing.data\n",
    "test_data['title+description'] = test_preprocessing.data"
   ]
  },
  {
   "cell_type": "markdown",
   "metadata": {},
   "source": [
    "### Q1) Stemming and Lemmatization\n",
    "#### Stemming is removing the suffix from a word and reducing it to its root word. For example, the word **flying** becomes **fly**. The only difference between stem and lemma is that stem may not be an actual word whereas, the lemma is an actual language word."
   ]
  },
  {
   "cell_type": "markdown",
   "metadata": {},
   "source": [
    "***\n",
    "# Phase two: Naïve Bayes\n",
    "#### Naïve Bayes is a classification technique based on Bayes’ Theorem with an assumption of independence among predictors. In simple terms, a Naive Bayes classifier assumes that the presence of a particular feature in a class is unrelated to the presence of any other feature.<br>\n",
    "***\n",
    "#### For classifying with naïve bayes approach, we have the following equation: (Bayes Rule)<br><br> $$P(C|X) = \\frac{P(X|C)P(C)}{P(X)}$$\n",
    "***\n",
    "### Q2) The parameters of the above equation\n",
    "- $\\normalsize \\bf P(C|X) \\text{ or Posterior Probability:}$ Posterior probability is the updated probability of an event occurring after taking into consideration new information. In this problem, the posterior probability is the probability of recognizing a category based on the words we saw.\n",
    "- $\\normalsize \\bf P(X|C) \\text{ or Likelihood:}$ Likelihood is the probability of predictor given class. In this problem, likelihood is the probability of observing words that belongs to a special category.\n",
    "- $\\normalsize \\bf P(C) \\text{ or Class Prior Probability:}$ Class prior probability is the probability of observing each class. The classes can be observed with equal probability or not, based on the problem description. In this problem, class prior probability is considered equal for each category. (we have 6 categories, so $P(C) = \\frac{1}{6}$)\n",
    "- $\\normalsize \\bf P(X) \\text{ or Predictor Prior Probability or Evidence:}$ Evidence is the probability of observing the word $x_i$ in the given text. Because P(X) exists as the denominator of all the expressions, we can ignore it.\n",
    "***\n",
    "We can consider the above equation as: $$P(C|X) = \\frac {P(C) \\prod_{i=1}^{n} P(x_i | C)}{P(x_1, x_2, ..., x_n)}$$ C is the category and $x_i$ is the $i_{th}$ word which we saw in that category.<br> Because the term $P(x_1, x_2, ..., x_n)$ is common between the probabilities we calculate, we can ignore it.$$P(C|X) = P(C) \\prod_{i=1}^{n} P(x_i | C)$$\n",
    "***\n",
    "In the following class, the Naive Bayes algorithm is modeled.\n",
    "- **train()**: With this method, we simply count the number of each word in a category and we  save this information in a dictionary.\n",
    "- **predict()**: We can predict the category for each item, based on the number of words we saw in the training phase. We iterate over the words of the given test item and see how much each word repeats in each category. Then we compute the above probability to see how much the new item fits each category. Then we look for the maximum probability, which defines the predicted category."
   ]
  },
  {
   "cell_type": "code",
   "execution_count": 6,
   "metadata": {
    "ExecuteTime": {
     "end_time": "2021-12-23T12:22:20.560519Z",
     "start_time": "2021-12-23T12:22:20.546559Z"
    }
   },
   "outputs": [],
   "source": [
    "class NaïveBayseClassifier:\n",
    "    def __init__(self, train_data):\n",
    "        self.train_df = train_data\n",
    "        self.labels = train_data['categories'].unique()\n",
    "        self.train_values = None\n",
    "        \n",
    "    def get_words(self, text, n_gram=1):\n",
    "        words = word_tokenize(text)\n",
    "        if n_gram == 1:\n",
    "            return words\n",
    "        new_words = []\n",
    "        for i in range(0, len(words) - n_gram):\n",
    "            s = ''\n",
    "            for j in range(i, i + n_gram):\n",
    "                s += words[j] + ' '\n",
    "            new_words.append(s)\n",
    "        return new_words\n",
    "    \n",
    "    def word_count_dictionary(self, texts):\n",
    "        words = []\n",
    "        for text in texts:\n",
    "            for word in self.get_words(text, n_gram=1):\n",
    "                words.append(word)\n",
    "        word_counts = collections.Counter(words)\n",
    "        return dict(word_counts)\n",
    "    \n",
    "    def train(self):\n",
    "        values = []\n",
    "        for label in self.labels:\n",
    "            filt = self.train_df['categories'] == label\n",
    "            values.append({label : self.word_count_dictionary(self.train_df[filt]['title+description'])})\n",
    "        self.train_values = values\n",
    "    \n",
    "    def sum_of_category_words(self):\n",
    "        sums = []\n",
    "        for category in self.train_values:\n",
    "            sums.append(sum(list(category.values())[0].values()))\n",
    "        return sums\n",
    "    \n",
    "    def vocab_sum(self):\n",
    "        s = 0\n",
    "        for category in self.train_values:\n",
    "            s += len(list(category.values()))\n",
    "        return s\n",
    "    \n",
    "    def specify_category(self, scores):\n",
    "        predict = []\n",
    "        for i in scores:\n",
    "            if sum(i) == 0:\n",
    "                predict.append(self.labels[i.argmax()])\n",
    "            else:\n",
    "                predict.append(self.labels[i.argmax()])\n",
    "        return predict\n",
    "            \n",
    "    def predict(self, test, mode='normal'):\n",
    "        # mode: normal or additive_smoothing\n",
    "        labels_size = len(self.labels) \n",
    "        test_size = len(test) \n",
    "        p_class = 1/labels_size\n",
    "        sums = self.sum_of_category_words()\n",
    "        scores = np.full(shape=(test_size,labels_size), fill_value=p_class)\n",
    "        \n",
    "        for index, row in test.iterrows():\n",
    "            words = self.get_words(row['title+description'], n_gram=1)\n",
    "            words = list(set(words))\n",
    "            for i, category in zip(range(len(self.train_values)), self.train_values):\n",
    "                for word in words:\n",
    "                    if word in list(category.values())[0]:\n",
    "                        count_w_c = list(category.values())[0][word]\n",
    "                    else:\n",
    "                        count_w_c = 0\n",
    "                    if mode == 'normal':\n",
    "                        scores[index][i] *= count_w_c / sums[i]\n",
    "                    else:\n",
    "                        scores[index][i] *= (count_w_c + 1) / (sums[i] + len(list(category.values())) + 1)\n",
    "        \n",
    "        return self.specify_category(scores)"
   ]
  },
  {
   "cell_type": "code",
   "execution_count": 7,
   "metadata": {
    "ExecuteTime": {
     "end_time": "2021-12-23T12:22:21.439960Z",
     "start_time": "2021-12-23T12:22:20.562460Z"
    }
   },
   "outputs": [],
   "source": [
    "naive_bayse = NaïveBayseClassifier(train_data)\n",
    "naive_bayse.train()\n",
    "add_smooth_predicted = naive_bayse.predict(test_data, mode='add')\n",
    "predicted = naive_bayse.predict(test_data, mode='normal')\n",
    "# predicted"
   ]
  },
  {
   "cell_type": "markdown",
   "metadata": {},
   "source": [
    "***\n",
    "## Bigrams\n",
    "#### A **bigram** is a sequence of two adjacent elements from a string of tokens, which are typically letters, syllables, or words.\n",
    "### Q3)\n",
    "### - Example of a word in two sentences that has different meaning: \n",
    "- Every afternoon they went to the park to feed the **duck**.\n",
    "- He had to **duck** as he came through the door.\n",
    "\n",
    "The first is a bird and second is verb meaning to bend.\n",
    "### - How bigrams help us to understand the meaning of the words?\n",
    "With bigrams, we can see each word in a context. For each word, we can use the meaning of its previous and next words to define its meaning.\n",
    "### - In the example above, is the bigram defines the meaning of the word or we need n-gram?\n",
    "With bigram, we can understand the meaning of the word **duck**, because in the first sentence we have **the** before duck, which indicates that the following duck word is a noun and in the second sentence, we have **to** before duck, which indicates that it is a verb. \n",
    "#### n-gram method can be simply add to the get_words() method."
   ]
  },
  {
   "cell_type": "markdown",
   "metadata": {},
   "source": [
    "***\n",
    "## Additive Smoothing\n",
    "One of the disadvantages of Naïve Bayes is that if you have no occurrences of a class label and a certain attribute value together then the frequency-based probability estimate will be zero.\n",
    "### Q4) Why this problem happening in Naïve Bayes?\n",
    "Because we have considered $P(C|X) = P(C) \\prod_{i=1}^{n} P(x_i | C)$, so if the word $x_i$ has not been observed in the category C, the $P(x_i | C)$ will be zero and the $P(C|X)$ will be zero too.<br>\n",
    "### Q5) What is Additive Smoothing and how it helps to solve the Naïve Bayse problem?\n",
    "**Additive Smoothing** or **Laplace Smoothing** is a smoothing technique that handles the problem of zero probability in Naïve Bayes. Using additive smoothing, we can represent $P(X|C)$ as: $$P(X|C) = \\frac{count(X,C) + 1}{count(C) + |V| + 1}$$ Here, <br>\n",
    "- **count(X,C)** is the number of the word X in the category C.\n",
    "- **count(C)** is the number of all of the words the category C.\n",
    "- **|V|** is the number of unique words in the category C.\n",
    "\n",
    "To ensure that our posterior probabilities are never zero, we can solve the naïve bayse problem. We add 1 to the numerator, and we add k to the denominator. So, in the case that we don’t have a particular ingredient in our training set, the posterior probability comes out to 1 / N + k instead of zero. **Plugging this value into the product doesn’t kill our ability to make a prediction as plugging in a zero does.**\n",
    "\n"
   ]
  },
  {
   "cell_type": "markdown",
   "metadata": {},
   "source": [
    "***\n",
    "## Checking Accuracy"
   ]
  },
  {
   "cell_type": "code",
   "execution_count": 8,
   "metadata": {
    "ExecuteTime": {
     "end_time": "2021-12-23T12:22:22.190443Z",
     "start_time": "2021-12-23T12:22:21.441905Z"
    }
   },
   "outputs": [
    {
     "data": {
      "image/png": "[encoded data removed]",
      "text/plain": [
       "<Figure size 1080x1080 with 6 Axes>"
      ]
     },
     "metadata": {},
     "output_type": "display_data"
    }
   ],
   "source": [
    "plt.style.use('seaborn')\n",
    "fig, axs = plt.subplots(2, 3, tight_layout=True, figsize=(15,15))\n",
    "labels = train_data['categories'].unique()\n",
    "for i in range(len(labels)):\n",
    "    A = {k: v for k, v in sorted(list(naive_bayse.train_values[i].values())[0].items(), \n",
    "                             key=lambda item: item[1], reverse=True)}\n",
    "    dictionary = dict(collections.Counter(A).most_common(5))\n",
    "    for key in list(dictionary.keys()):\n",
    "        dictionary[get_display(reshape(key))] = dictionary[key]\n",
    "        del dictionary[key]\n",
    "    axs[i%2][i%3].bar(dictionary.keys(), dictionary.values(), color='g')\n",
    "    axs[i%2][i%3].set_title(labels[i], fontsize=25)\n",
    "    for label in (axs[i%2][i%3].get_xticklabels() + axs[i%2][i%3].get_yticklabels()):\n",
    "        label.set_fontsize(20)\n"
   ]
  },
  {
   "cell_type": "markdown",
   "metadata": {},
   "source": [
    "***\n",
    "# Phase three: Evaluation\n",
    "## To evaluate the model, we use the following 4 criteria:<br>\n",
    "#### **1- Accuracy**: Accuracy is the most intuitive performance measure and it is simply a ratio of correctly predicted observation to the total observations. $$Accuracy = \\frac{\\text{Correct Detected}}{Total}$$\n",
    "#### **2- Precision**: Precision is the ratio of correctly predicted class observations to the total predicted class observations. $$Precision = \\frac{\\text{Correct Detected Class}}{All Detected Class}$$\n",
    "#### **3- Recall**: Recall is the ratio of correctly predicted class observations to the all observations in actual class. $$Recall = \\frac{\\text{Correct Detected Class}}{Total Class}$$\n",
    "#### **4- F1**: F1 Score is the weighted average of Precision and Recall. Intuitively it is not as easy to understand as accuracy, but F1 is usually more useful than accuracy, especially if you have an uneven class distribution.<br><br>$$F1 = 2 * \\frac{Precision * Recall}{Precision + Recall}$$<br>\n",
    "#### See this [link](https://blog.exsilio.com/all/accuracy-precision-recall-f1-score-interpretation-of-performance-measures/) for more information.<br>\n",
    "***\n",
    "### Q7) Why Precision or Recall value each is not enough to describe the performance of a classifier?\n",
    "#### A classifier with **high precision** gives very few incorrect answers. We could imagine a classifier which achieves this by being very conservative, that is, it would avoid returning documents that it is not completely certain about and therefore fails to return many relevant documents.<br> A classifier with **high recall** misses very few correct answers. We could imagine a classifier which achieves this by being very permissive, that is, it would return documents that it is not completely certain about and therefore also return many irrelevant documents.<br> For example, if we have a very conservative model, it doesn't predict a lot. So its precision value will increase, whereas its recall value will decrease and vice versa. Here for the case that we don't use additive smoothing, the precision value is high because we don't predict much.\n",
    "***\n",
    "### Q8) What type of averaging F1 use? And why does it matter?\n",
    "#### F1 uses the **harmonic mean**. Similar to arithmetic mean, the F1-score will always be somewhere in between precision and recall. But it behaves differently: the F1-score gives a larger weight to lower numbers.<br> Harmonic mean matters in F1, because it is never higher than the geometrical mean. It also tends towards the least number, minimizing the impact of the large outliers and maximizing the impact of small ones. The F-measure, therefore, tends to privilege balanced systems.\n",
    "***\n",
    "### Q9) What is macro, micro, and weighted averaging?\n",
    "#### In **macro averaged** is computed as a simple arithmetic mean. For example in macro-F1, we compute arithmetic mean of our per-class F1-scores.\n",
    "#### In **weighted averaged**, we have different weights for each item. For example in weighted-F1, we weight the F1-score of each class by the number of samples from that class. \n",
    "#### In **micro averaged**, we look at all samples together. So here micro-F1, micro-precision, micro-recall, and accuracy are equal. "
   ]
  },
  {
   "cell_type": "code",
   "execution_count": 9,
   "metadata": {
    "ExecuteTime": {
     "end_time": "2021-12-23T12:22:22.210799Z",
     "start_time": "2021-12-23T12:22:22.192354Z"
    }
   },
   "outputs": [],
   "source": [
    "class Evaluation:\n",
    "    def __init__(self, predicted, actual_value):\n",
    "        self.predicted = predicted\n",
    "        self.actual_value = actual_value\n",
    "        \n",
    "    def correct_detected(self):\n",
    "        return np.sum(self.predicted == self.actual_value)\n",
    "    \n",
    "    def total(self):\n",
    "        return len(self.actual_value)\n",
    "    \n",
    "    def correct_detected_class(self, category):\n",
    "        cnt = 0\n",
    "        for i, j in zip(self.actual_value, self.predicted):\n",
    "            if j == category:\n",
    "                if i == j:\n",
    "                    cnt += 1\n",
    "        return cnt\n",
    "        \n",
    "    def all_detected_class(self, category):\n",
    "        return collections.Counter(self.predicted)[category]\n",
    "    \n",
    "    def total_class(self, category):\n",
    "        return collections.Counter(self.actual_value)[category]\n",
    "    \n",
    "    def calc_accuracy(self):\n",
    "        return self.correct_detected() / self.total()\n",
    "    \n",
    "    def calc_precision(self, category):\n",
    "        return self.correct_detected_class(category) / self.all_detected_class(category)\n",
    "        \n",
    "    def calc_recall(self, category):\n",
    "        return self.correct_detected_class(category) / self.total_class(category)\n",
    "    \n",
    "    def calc_F1(self, category):\n",
    "        return 2 * (self.calc_precision(category) * self.calc_recall(category)) \\\n",
    "               / (self.calc_precision(category) + self.calc_recall(category))\n",
    "    \n",
    "    def calc_macro_F1(self, F1s):\n",
    "        return sum(F1s) / len(F1s)\n",
    "    \n",
    "    def calc_weighted_F1(self, F1s, weights):\n",
    "        s = 0\n",
    "        for F1, weight in zip(F1s, weights):\n",
    "            s += weight * F1\n",
    "        return s / sum(weights)\n",
    "    \n",
    "    def calc_micro_F1(self):\n",
    "        return self.calc_accuracy()"
   ]
  },
  {
   "cell_type": "code",
   "execution_count": 10,
   "metadata": {
    "ExecuteTime": {
     "end_time": "2021-12-23T12:22:22.289254Z",
     "start_time": "2021-12-23T12:22:22.214457Z"
    }
   },
   "outputs": [
    {
     "name": "stdout",
     "output_type": "stream",
     "text": [
      "                    precision    recall  f1-score   support\n",
      "\n",
      "   leisure-hobbies       0.71      0.27      0.40       300\n",
      "          vehicles       0.91      0.21      0.34       300\n",
      "      for-the-home       0.84      0.38      0.52       300\n",
      "          personal       0.23      0.98      0.37       300\n",
      "electronic-devices       0.92      0.35      0.50       300\n",
      "        businesses       0.97      0.32      0.48       300\n",
      "\n",
      "          accuracy                           0.42      1800\n",
      "         macro avg       0.76      0.42      0.44      1800\n",
      "      weighted avg       0.76      0.42      0.44      1800\n",
      "\n",
      "                    precision    recall  f1-score   support\n",
      "\n",
      "   leisure-hobbies       0.77      0.78      0.78       300\n",
      "          vehicles       0.92      0.92      0.92       300\n",
      "      for-the-home       0.79      0.89      0.84       300\n",
      "          personal       0.92      0.82      0.87       300\n",
      "electronic-devices       0.87      0.89      0.88       300\n",
      "        businesses       0.94      0.89      0.92       300\n",
      "\n",
      "          accuracy                           0.87      1800\n",
      "         macro avg       0.87      0.87      0.87      1800\n",
      "      weighted avg       0.87      0.87      0.87      1800\n",
      "\n"
     ]
    }
   ],
   "source": [
    "from sklearn.metrics import classification_report\n",
    "print(classification_report(test_data['categories'], predicted, target_names=labels))\n",
    "print(classification_report(test_data['categories'], add_smooth_predicted, target_names=labels))"
   ]
  },
  {
   "cell_type": "markdown",
   "metadata": {},
   "source": [
    "***\n",
    "# Results\n",
    "## - Using Additive Smoothing"
   ]
  },
  {
   "cell_type": "code",
   "execution_count": 11,
   "metadata": {
    "ExecuteTime": {
     "end_time": "2021-12-23T12:22:22.340794Z",
     "start_time": "2021-12-23T12:22:22.291379Z"
    }
   },
   "outputs": [
    {
     "data": {
      "text/html": [
       "<div>\n",
       "<style scoped>\n",
       "    .dataframe tbody tr th:only-of-type {\n",
       "        vertical-align: middle;\n",
       "    }\n",
       "\n",
       "    .dataframe tbody tr th {\n",
       "        vertical-align: top;\n",
       "    }\n",
       "\n",
       "    .dataframe thead th {\n",
       "        text-align: right;\n",
       "    }\n",
       "</style>\n",
       "<table border=\"1\" class=\"dataframe\">\n",
       "  <thead>\n",
       "    <tr style=\"text-align: right;\">\n",
       "      <th></th>\n",
       "      <th>Businesses</th>\n",
       "      <th>Electronic Devices</th>\n",
       "      <th>For the home</th>\n",
       "      <th>Leisure Hobbies</th>\n",
       "      <th>Personal</th>\n",
       "      <th>Vehicles</th>\n",
       "      <th>All Classes</th>\n",
       "    </tr>\n",
       "  </thead>\n",
       "  <tbody>\n",
       "    <tr>\n",
       "      <th>Precision</th>\n",
       "      <td>0.772277</td>\n",
       "      <td>0.919732</td>\n",
       "      <td>0.789941</td>\n",
       "      <td>0.924812</td>\n",
       "      <td>0.867314</td>\n",
       "      <td>0.940351</td>\n",
       "      <td>-</td>\n",
       "    </tr>\n",
       "    <tr>\n",
       "      <th>Recall</th>\n",
       "      <td>0.78</td>\n",
       "      <td>0.916667</td>\n",
       "      <td>0.89</td>\n",
       "      <td>0.82</td>\n",
       "      <td>0.893333</td>\n",
       "      <td>0.893333</td>\n",
       "      <td>-</td>\n",
       "    </tr>\n",
       "    <tr>\n",
       "      <th>F1-score</th>\n",
       "      <td>0.776119</td>\n",
       "      <td>0.918197</td>\n",
       "      <td>0.836991</td>\n",
       "      <td>0.869258</td>\n",
       "      <td>0.880131</td>\n",
       "      <td>0.916239</td>\n",
       "      <td>-</td>\n",
       "    </tr>\n",
       "    <tr>\n",
       "      <th>Accuracy</th>\n",
       "      <td>-</td>\n",
       "      <td>-</td>\n",
       "      <td>-</td>\n",
       "      <td>-</td>\n",
       "      <td>-</td>\n",
       "      <td>-</td>\n",
       "      <td>0.865556</td>\n",
       "    </tr>\n",
       "    <tr>\n",
       "      <th>Macro Avg</th>\n",
       "      <td>-</td>\n",
       "      <td>-</td>\n",
       "      <td>-</td>\n",
       "      <td>-</td>\n",
       "      <td>-</td>\n",
       "      <td>-</td>\n",
       "      <td>0.866156</td>\n",
       "    </tr>\n",
       "    <tr>\n",
       "      <th>Micro Avg</th>\n",
       "      <td>-</td>\n",
       "      <td>-</td>\n",
       "      <td>-</td>\n",
       "      <td>-</td>\n",
       "      <td>-</td>\n",
       "      <td>-</td>\n",
       "      <td>0.865556</td>\n",
       "    </tr>\n",
       "    <tr>\n",
       "      <th>Weighted Avg</th>\n",
       "      <td>-</td>\n",
       "      <td>-</td>\n",
       "      <td>-</td>\n",
       "      <td>-</td>\n",
       "      <td>-</td>\n",
       "      <td>-</td>\n",
       "      <td>0.866156</td>\n",
       "    </tr>\n",
       "  </tbody>\n",
       "</table>\n",
       "</div>"
      ],
      "text/plain": [
       "             Businesses Electronic Devices For the home Leisure Hobbies  \\\n",
       "Precision      0.772277           0.919732     0.789941        0.924812   \n",
       "Recall             0.78           0.916667         0.89            0.82   \n",
       "F1-score       0.776119           0.918197     0.836991        0.869258   \n",
       "Accuracy              -                  -            -               -   \n",
       "Macro Avg             -                  -            -               -   \n",
       "Micro Avg             -                  -            -               -   \n",
       "Weighted Avg          -                  -            -               -   \n",
       "\n",
       "              Personal  Vehicles All Classes  \n",
       "Precision     0.867314  0.940351           -  \n",
       "Recall        0.893333  0.893333           -  \n",
       "F1-score      0.880131  0.916239           -  \n",
       "Accuracy             -         -    0.865556  \n",
       "Macro Avg            -         -    0.866156  \n",
       "Micro Avg            -         -    0.865556  \n",
       "Weighted Avg         -         -    0.866156  "
      ]
     },
     "metadata": {},
     "output_type": "display_data"
    }
   ],
   "source": [
    "evaluation_additive = Evaluation(add_smooth_predicted, test_data['categories'])\n",
    "cols = ['Businesses', 'Electronic Devices', 'For the home', \n",
    "        'Leisure Hobbies', 'Personal', 'Vehicles', 'All Classes']\n",
    "\n",
    "labels = ['businesses', 'electronic-devices', 'for-the-home', \n",
    "          'leisure-hobbies', 'personal', 'vehicles']\n",
    "\n",
    "recalls, precisions, F1s, accuracies, macro_avgs, \\\n",
    "    micro_avgs, weighted_avgs = [], [], [], [], [], [], []\n",
    "\n",
    "for label in labels:\n",
    "    recalls.append(evaluation_additive.calc_recall(label))\n",
    "    precisions.append(evaluation_additive.calc_precision(label))\n",
    "    F1s.append(evaluation_additive.calc_F1(label))\n",
    "    \n",
    "recalls.append('-')\n",
    "F1s.append('-')\n",
    "precisions.append('-')\n",
    "for i in range(len(labels)):\n",
    "    accuracies.append('-'), macro_avgs.append('-'), \\\n",
    "    micro_avgs.append('-'), weighted_avgs.append('-')\n",
    "    \n",
    "accuracies.append(evaluation_additive.calc_accuracy())\n",
    "macro_avgs.append(evaluation_additive.calc_macro_F1(F1s[:len(labels)]))\n",
    "micro_avgs.append(evaluation_additive.calc_micro_F1())\n",
    "weights = [1]*len(labels)\n",
    "weighted_avgs.append(evaluation_additive.calc_weighted_F1(F1s[:len(labels)], weights))\n",
    "df = pd.DataFrame([precisions, recalls, F1s, accuracies,\n",
    "              macro_avgs, micro_avgs, weighted_avgs], columns=cols, \n",
    "             index=['Precision', 'Recall', 'F1-score', 'Accuracy', \n",
    "                    'Macro Avg', 'Micro Avg', 'Weighted Avg'])\n",
    "\n",
    "display(df)"
   ]
  },
  {
   "cell_type": "markdown",
   "metadata": {},
   "source": [
    "***\n",
    "## - Without Using Additive Smoothing"
   ]
  },
  {
   "cell_type": "code",
   "execution_count": 12,
   "metadata": {
    "ExecuteTime": {
     "end_time": "2021-12-23T12:22:22.371085Z",
     "start_time": "2021-12-23T12:22:22.342604Z"
    }
   },
   "outputs": [
    {
     "data": {
      "text/html": [
       "<div>\n",
       "<style scoped>\n",
       "    .dataframe tbody tr th:only-of-type {\n",
       "        vertical-align: middle;\n",
       "    }\n",
       "\n",
       "    .dataframe tbody tr th {\n",
       "        vertical-align: top;\n",
       "    }\n",
       "\n",
       "    .dataframe thead th {\n",
       "        text-align: right;\n",
       "    }\n",
       "</style>\n",
       "<table border=\"1\" class=\"dataframe\">\n",
       "  <thead>\n",
       "    <tr style=\"text-align: right;\">\n",
       "      <th></th>\n",
       "      <th>Businesses</th>\n",
       "      <th>Electronic Devices</th>\n",
       "      <th>For the home</th>\n",
       "      <th>Leisure Hobbies</th>\n",
       "      <th>Personal</th>\n",
       "      <th>Vehicles</th>\n",
       "      <th>All Classes</th>\n",
       "    </tr>\n",
       "  </thead>\n",
       "  <tbody>\n",
       "    <tr>\n",
       "      <th>Precision</th>\n",
       "      <td>0.713043</td>\n",
       "      <td>0.911765</td>\n",
       "      <td>0.844444</td>\n",
       "      <td>0.230527</td>\n",
       "      <td>0.920354</td>\n",
       "      <td>0.969388</td>\n",
       "      <td>-</td>\n",
       "    </tr>\n",
       "    <tr>\n",
       "      <th>Recall</th>\n",
       "      <td>0.273333</td>\n",
       "      <td>0.206667</td>\n",
       "      <td>0.38</td>\n",
       "      <td>0.976667</td>\n",
       "      <td>0.346667</td>\n",
       "      <td>0.316667</td>\n",
       "      <td>-</td>\n",
       "    </tr>\n",
       "    <tr>\n",
       "      <th>F1-score</th>\n",
       "      <td>0.395181</td>\n",
       "      <td>0.336957</td>\n",
       "      <td>0.524138</td>\n",
       "      <td>0.373011</td>\n",
       "      <td>0.503632</td>\n",
       "      <td>0.477387</td>\n",
       "      <td>-</td>\n",
       "    </tr>\n",
       "    <tr>\n",
       "      <th>Accuracy</th>\n",
       "      <td>-</td>\n",
       "      <td>-</td>\n",
       "      <td>-</td>\n",
       "      <td>-</td>\n",
       "      <td>-</td>\n",
       "      <td>-</td>\n",
       "      <td>0.416667</td>\n",
       "    </tr>\n",
       "    <tr>\n",
       "      <th>Macro Avg</th>\n",
       "      <td>-</td>\n",
       "      <td>-</td>\n",
       "      <td>-</td>\n",
       "      <td>-</td>\n",
       "      <td>-</td>\n",
       "      <td>-</td>\n",
       "      <td>0.435051</td>\n",
       "    </tr>\n",
       "    <tr>\n",
       "      <th>Micro Avg</th>\n",
       "      <td>-</td>\n",
       "      <td>-</td>\n",
       "      <td>-</td>\n",
       "      <td>-</td>\n",
       "      <td>-</td>\n",
       "      <td>-</td>\n",
       "      <td>0.416667</td>\n",
       "    </tr>\n",
       "    <tr>\n",
       "      <th>Weighted Avg</th>\n",
       "      <td>-</td>\n",
       "      <td>-</td>\n",
       "      <td>-</td>\n",
       "      <td>-</td>\n",
       "      <td>-</td>\n",
       "      <td>-</td>\n",
       "      <td>0.435051</td>\n",
       "    </tr>\n",
       "  </tbody>\n",
       "</table>\n",
       "</div>"
      ],
      "text/plain": [
       "             Businesses Electronic Devices For the home Leisure Hobbies  \\\n",
       "Precision      0.713043           0.911765     0.844444        0.230527   \n",
       "Recall         0.273333           0.206667         0.38        0.976667   \n",
       "F1-score       0.395181           0.336957     0.524138        0.373011   \n",
       "Accuracy              -                  -            -               -   \n",
       "Macro Avg             -                  -            -               -   \n",
       "Micro Avg             -                  -            -               -   \n",
       "Weighted Avg          -                  -            -               -   \n",
       "\n",
       "              Personal  Vehicles All Classes  \n",
       "Precision     0.920354  0.969388           -  \n",
       "Recall        0.346667  0.316667           -  \n",
       "F1-score      0.503632  0.477387           -  \n",
       "Accuracy             -         -    0.416667  \n",
       "Macro Avg            -         -    0.435051  \n",
       "Micro Avg            -         -    0.416667  \n",
       "Weighted Avg         -         -    0.435051  "
      ]
     },
     "metadata": {},
     "output_type": "display_data"
    }
   ],
   "source": [
    "evaluation = Evaluation(predicted, test_data['categories'])\n",
    "cols = ['Businesses', 'Electronic Devices', 'For the home', \n",
    "        'Leisure Hobbies', 'Personal', 'Vehicles', 'All Classes']\n",
    "\n",
    "labels = ['businesses', 'electronic-devices', 'for-the-home', \n",
    "          'leisure-hobbies', 'personal', 'vehicles']\n",
    "\n",
    "recalls, precisions, F1s, accuracies, macro_avgs, \\\n",
    "    micro_avgs, weighted_avgs = [], [], [], [], [], [], []\n",
    "\n",
    "for label in labels:\n",
    "    recalls.append(evaluation.calc_recall(label))\n",
    "    precisions.append(evaluation.calc_precision(label))\n",
    "    F1s.append(evaluation.calc_F1(label))\n",
    "    \n",
    "recalls.append('-')\n",
    "F1s.append('-')\n",
    "precisions.append('-')\n",
    "for i in range(len(labels)):\n",
    "    accuracies.append('-'), macro_avgs.append('-'), \\\n",
    "    micro_avgs.append('-'), weighted_avgs.append('-')\n",
    "    \n",
    "accuracies.append(evaluation.calc_accuracy())\n",
    "macro_avgs.append(evaluation.calc_macro_F1(F1s[:len(labels)]))\n",
    "micro_avgs.append(evaluation.calc_micro_F1())\n",
    "weights = [1]*len(labels)\n",
    "weighted_avgs.append(evaluation.calc_weighted_F1(F1s[:len(labels)], weights))\n",
    "\n",
    "df = pd.DataFrame([precisions, recalls, F1s, accuracies,\n",
    "              macro_avgs, micro_avgs, weighted_avgs], columns=cols, \n",
    "             index=['Precision', 'Recall', 'F1-score', 'Accuracy', \n",
    "                    'Macro Avg', 'Micro Avg', 'Weighted Avg'])\n",
    "\n",
    "display(df)"
   ]
  },
  {
   "cell_type": "markdown",
   "metadata": {},
   "source": [
    "***\n",
    "## Analyzing the results\n",
    "#### The obvious thing we can see is that we have a big difference between using and not using the additive smoothing method.<br> Also, we can see that with using additive smoothing, the difference between **precision** and **recall** is not big, but without using additive smoothing, the difference between these two criteria is big.<br> The next thing is that the value of accuracy is close to the value of the F1-score, which means that accuracy is a good metric in deciding whether a model is good or not."
   ]
  },
  {
   "cell_type": "markdown",
   "metadata": {},
   "source": [
    "***\n",
    "## Observing five wrong classified items\n",
    "#### In Naive Bayes, if there are significant differences in the attribute distributions compared to the training dataset, the results won't be reliable. <br>In this problem, having more data is expected to result in better results."
   ]
  },
  {
   "cell_type": "code",
   "execution_count": 13,
   "metadata": {
    "ExecuteTime": {
     "end_time": "2021-12-23T12:22:22.379250Z",
     "start_time": "2021-12-23T12:22:22.372685Z"
    },
    "scrolled": false
   },
   "outputs": [
    {
     "name": "stdout",
     "output_type": "stream",
     "text": [
      "مودم سلام مودم وسایل دیگه ب کشت&کار نمیاد مارکzyxel خرید شماره ی تماس گرفت&گیر NUM\n",
      "Predicted category :  leisure-hobbies\n",
      "Actual category :  electronic-devices\n",
      "سیپوراکس سیپوراکس میکرو مک جی بی‌ال سرامیک سرا کاهنده نیترات نی اکواریوم درجه 1\n",
      "Predicted category :  for-the-home\n",
      "Actual category :  leisure-hobbies\n",
      "موتور تزیینی جنس اهن کار دست عرضه صورت عمده تکی\n",
      "Predicted category :  businesses\n",
      "Actual category :  for-the-home\n",
      "اسکیت حرفه‌ای رولربلید درحدنو اسکیت RollerBlade 80 mm Bio Dynamic سایز 41 43 درحد نو\n",
      "Predicted category :  personal\n",
      "Actual category :  leisure-hobbies\n",
      "اچارشلاقی HEYCOالمان اصل الم سایز y0m5d1 مقاوم\n",
      "Predicted category :  personal\n",
      "Actual category :  businesses\n"
     ]
    }
   ],
   "source": [
    "i = 0\n",
    "mistakes = []\n",
    "for pred, actual_index in zip(add_smooth_predicted, range(len(test_data['categories']))):\n",
    "    if i > 4:\n",
    "        break\n",
    "    if pred != test_data['categories'][actual_index]:\n",
    "        i += 1\n",
    "        mistakes.append(actual_index)\n",
    "\n",
    "for mis in mistakes:\n",
    "    print(test_data['title+description'].iloc[mis])\n",
    "    print(\"Predicted category : \", add_smooth_predicted[mis])\n",
    "    print(\"Actual category : \", test_data['categories'].iloc[mis])"
   ]
  },
  {
   "cell_type": "markdown",
   "metadata": {},
   "source": [
    "#### We can see that some words that are common in categories, will lead naive bayse to fail. So looking in the words based on their context will be better in deciding each word is relates to what category."
   ]
  }
 ],
 "metadata": {
  "kernelspec": {
   "display_name": "Python 3",
   "language": "python",
   "name": "python3"
  },
  "language_info": {
   "codemirror_mode": {
    "name": "ipython",
    "version": 3
   },
   "file_extension": ".py",
   "mimetype": "text/x-python",
   "name": "python",
   "nbconvert_exporter": "python",
   "pygments_lexer": "ipython3",
   "version": "3.8.5"
  },
  "latex_envs": {
   "LaTeX_envs_menu_present": true,
   "autoclose": false,
   "autocomplete": true,
   "bibliofile": "biblio.bib",
   "cite_by": "apalike",
   "current_citInitial": 1,
   "eqLabelWithNumbers": true,
   "eqNumInitial": 1,
   "hotkeys": {
    "equation": "Ctrl-E",
    "itemize": "Ctrl-I"
   },
   "labels_anchors": false,
   "latex_user_defs": false,
   "report_style_numbering": false,
   "user_envs_cfg": false
  },
  "toc": {
   "base_numbering": 1,
   "nav_menu": {},
   "number_sections": true,
   "sideBar": true,
   "skip_h1_title": false,
   "title_cell": "Table of Contents",
   "title_sidebar": "Contents",
   "toc_cell": false,
   "toc_position": {},
   "toc_section_display": true,
   "toc_window_display": false
  },
  "varInspector": {
   "cols": {
    "lenName": 16,
    "lenType": 16,
    "lenVar": 40
   },
   "kernels_config": {
    "python": {
     "delete_cmd_postfix": "",
     "delete_cmd_prefix": "del ",
     "library": "var_list.py",
     "varRefreshCmd": "print(var_dic_list())"
    },
    "r": {
     "delete_cmd_postfix": ") ",
     "delete_cmd_prefix": "rm(",
     "library": "var_list.r",
     "varRefreshCmd": "cat(var_dic_list()) "
    }
   },
   "types_to_exclude": [
    "module",
    "function",
    "builtin_function_or_method",
    "instance",
    "_Feature"
   ],
   "window_display": false
  }
 },
 "nbformat": 4,
 "nbformat_minor": 4
}
